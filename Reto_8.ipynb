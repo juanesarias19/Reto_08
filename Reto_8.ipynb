{
  "nbformat": 4,
  "nbformat_minor": 0,
  "metadata": {
    "colab": {
      "provenance": []
    },
    "kernelspec": {
      "name": "python3",
      "display_name": "Python 3"
    },
    "language_info": {
      "name": "python"
    }
  },
  "cells": [
    {
      "cell_type": "markdown",
      "source": [
        "### Reto 8 - Clase 12\n",
        "Desarrolle la mayoría de ejercicios en clase. Para cada punto cree un programa individual. Al finalizar suba todo a un repo y subalo al canal reto_08 en slack.\n",
        "\n"
      ],
      "metadata": {
        "id": "N1zQU7riSpV4"
      }
    },
    {
      "cell_type": "markdown",
      "source": [
        "1. De los retos anteriores selecione 3 funciones y escribalas en forma de lambdas.\n"
      ],
      "metadata": {
        "id": "6Kt4vRLnS7Cg"
      }
    },
    {
      "cell_type": "code",
      "source": [
        "# Extraído del Reto 5 punto 2\n",
        "\n",
        "# Funcion tradicional para calcular el area de un rectangulo\n",
        "def area_perimetro_rectangulo(base:float, altura:float) -> float:\n",
        "  area_rectangulo = base*altura\n",
        "  perimetro_rectangulo = base*2+altura*2\n",
        "  return area_rectangulo, perimetro_rectangulo\n",
        "\n",
        "# Función Lambda para calcular el cuadrado de un número\n",
        "area = lambda x,y : x*y\n",
        "print(area(3,4)) #Resultado para comprobar la función\n"
      ],
      "metadata": {
        "colab": {
          "base_uri": "https://localhost:8080/"
        },
        "id": "7vi0su-ETMZf",
        "outputId": "b24cd75a-2e5b-4fcb-a5bf-174b5a11db1e"
      },
      "execution_count": null,
      "outputs": [
        {
          "output_type": "stream",
          "name": "stdout",
          "text": [
            "12\n"
          ]
        }
      ]
    },
    {
      "cell_type": "code",
      "source": [
        "#Extraído del Reto 5 punto 4\n",
        "\n",
        "# Funcion tradicional para calcular el valor de un préstamo y su interés\n",
        "def calcular_prestamo(C, i, n):\n",
        "    M = C * (1 + i * n)\n",
        "    return M\n",
        "\n",
        "# Función Lambda para calcular el el valor de un préstamo y su interés\n",
        "prestamo = lambda c,i,n : c * (1 + i * n)\n",
        "print(prestamo(10,0.1,2)) #Resultado para comprobar la función"
      ],
      "metadata": {
        "colab": {
          "base_uri": "https://localhost:8080/"
        },
        "id": "nOuiCDOpU96v",
        "outputId": "15de9bbc-9f24-4ce8-b85c-32fee097c99d"
      },
      "execution_count": null,
      "outputs": [
        {
          "output_type": "stream",
          "name": "stdout",
          "text": [
            "12.0\n"
          ]
        }
      ]
    },
    {
      "cell_type": "code",
      "source": [
        "#Extraído del Reto 5 punto 5\n",
        "\n",
        "# Funcion tradicional para calcular la raíz cúbica del menor número\n",
        "def raiz_cubica(n1: float, n2:float, n3:float, n4:float, n5: float):\n",
        "  menor = min(n1,n2,n3,n4,n5)\n",
        "  raiz_cub = menor**3\n",
        "  return raiz_cub\n",
        "\n",
        "# Función Lambda para calcular la raíz cúbica del menor número\n",
        "raiz_cubica = lambda n1, n2, n3, n4, n5: min(n1, n2, n3, n4, n5) ** 3.0\n",
        "print(raiz_cubica(56,86,78,45,98)) #Resultado para comprobar la función"
      ],
      "metadata": {
        "colab": {
          "base_uri": "https://localhost:8080/"
        },
        "id": "q2XoymCtX2n_",
        "outputId": "18bd1a84-e63a-442f-ed4d-d00536682bc7"
      },
      "execution_count": null,
      "outputs": [
        {
          "output_type": "stream",
          "name": "stdout",
          "text": [
            "91125.0\n"
          ]
        }
      ]
    },
    {
      "cell_type": "markdown",
      "source": [
        "2. De los retos anteriores selecione 3 funciones y escribalas con argumentos no definidos (*args).\n"
      ],
      "metadata": {
        "id": "_aV-WPw5S98G"
      }
    },
    {
      "cell_type": "code",
      "source": [
        "#Extraído del reto 5 punto 5 - Función para calcular el promedio\n",
        "def calcular_promedio(*args)-> int: #Declarar función sin argumentos definidos\n",
        "  promedio = (sum(args))/5\n",
        "  return promedio\n",
        "\n",
        "if __name__ == \"__main__\": #Programa principal para solicitar datos\n",
        "  a = int(input(\"Ingrese numero a: \"))\n",
        "  b = int(input(\"Ingrese numero b: \"))\n",
        "  c = int(input(\"Ingrese numero c: \"))\n",
        "  d = int(input(\"Ingrese numero d: \"))\n",
        "  e = int(input(\"Ingrese numero e: \"))\n",
        "\n",
        "print(\"El promedio es:\", calcular_promedio(a,b,c,d,e)) #Respuesta\n"
      ],
      "metadata": {
        "id": "aEsD6j_3TLz3",
        "colab": {
          "base_uri": "https://localhost:8080/"
        },
        "outputId": "8a40e5f3-8888-4132-e3c7-1d14bac69fc1"
      },
      "execution_count": null,
      "outputs": [
        {
          "output_type": "stream",
          "name": "stdout",
          "text": [
            "Ingrese numero a: 5\n",
            "Ingrese numero b: 6\n",
            "Ingrese numero c: 8\n",
            "Ingrese numero d: 4\n",
            "Ingrese numero e: 5\n",
            "El promedio es: 5.6\n"
          ]
        }
      ]
    },
    {
      "cell_type": "code",
      "source": [
        "#Extraído del reto 5 punto 5 - Función para\n",
        "#Función para calular la potencia del mayor número elevado al menor número\n",
        "\n",
        "def calcular_potencia(*args):#Declarar función sin argumentos definidos\n",
        "  mayor = max(args)\n",
        "  menor = min(args)\n",
        "  potencia = mayor**menor\n",
        "  return potencia\n",
        "\n",
        "if __name__ == \"__main__\": #Programa principal para solicitar datos\n",
        "  a = int(input(\"Ingrese numero a: \"))\n",
        "  b = int(input(\"Ingrese numero b: \"))\n",
        "  c = int(input(\"Ingrese numero c: \"))\n",
        "  d = int(input(\"Ingrese numero d: \"))\n",
        "  e = int(input(\"Ingrese numero e: \"))\n",
        "\n",
        "print(\"El promedio es:\", calcular_potencia(a,b,c,d,e)) #Respuesta"
      ],
      "metadata": {
        "colab": {
          "base_uri": "https://localhost:8080/"
        },
        "id": "fEnixieSc45V",
        "outputId": "b8073137-ebc9-4a1d-aeb1-d85a221e2327"
      },
      "execution_count": null,
      "outputs": [
        {
          "output_type": "stream",
          "name": "stdout",
          "text": [
            "Ingrese numero a: 2\n",
            "Ingrese numero b: 3\n",
            "Ingrese numero c: 4\n",
            "Ingrese numero d: 5\n",
            "Ingrese numero e: 6\n",
            "El promedio es: 36\n"
          ]
        }
      ]
    },
    {
      "cell_type": "code",
      "source": [
        "#Extraído del reto 5 punto 5 - Función para calcular promedio multiplicativo\n",
        "def calcular_promedio_mul(*args):\n",
        "    producto = 1  # Inicializar el producto\n",
        "    for num in args:\n",
        "        producto *= num  # Multiplicar cada número\n",
        "    promedio_mul = producto ** (1 / 5)  # Calcular la raíz\n",
        "    return promedio_mul\n",
        "\n",
        "if __name__ == \"__main__\": #Programa principal para solicitar datos\n",
        "  a = int(input(\"Ingrese numero a: \"))\n",
        "  b = int(input(\"Ingrese numero b: \"))\n",
        "  c = int(input(\"Ingrese numero c: \"))\n",
        "  d = int(input(\"Ingrese numero d: \"))\n",
        "  e = int(input(\"Ingrese numero e: \"))\n",
        "\n",
        "print(\"El promedio es:\", calcular_promedio_mul(a,b,c,d,e)) #Respuesta"
      ],
      "metadata": {
        "colab": {
          "base_uri": "https://localhost:8080/"
        },
        "id": "4hrvr1KGdrEf",
        "outputId": "ef930b55-136c-48b9-844a-175b8ca74dc5"
      },
      "execution_count": null,
      "outputs": [
        {
          "output_type": "stream",
          "name": "stdout",
          "text": [
            "Ingrese numero a: 3\n",
            "Ingrese numero b: 5\n",
            "Ingrese numero c: 7\n",
            "Ingrese numero d: 3\n",
            "Ingrese numero e: 7\n",
            "El promedio es: 4.663175051139944\n"
          ]
        }
      ]
    },
    {
      "cell_type": "markdown",
      "source": [
        "3. Escriba una función recursiva para calcular la operación de la potencia.\n"
      ],
      "metadata": {
        "id": "F86kN2xrTA4_"
      }
    },
    {
      "cell_type": "code",
      "source": [
        "def potencia(base: float, exponente: int) -> float:\n",
        "  if exponente == 0:# Caso base: cualquier número elevado a la potencia 0 es 1\n",
        "      return 1\n",
        "  else:\n",
        "      exponente > 0 # Caso recursivo: base * potencia(base, exponente - 1)\n",
        "  return base * potencia(base, exponente - 1)\n",
        "\n",
        "if __name__ == \"__main__\":\n",
        "  base = float(input(\"Ingrese la base: \"))\n",
        "  exponente = int(input(\"Ingrese el exponente: \"))\n",
        "  resultado = potencia(base, exponente)\n",
        "  print(base,\" elevado a\" ,exponente ,\"es:\", resultado)"
      ],
      "metadata": {
        "colab": {
          "base_uri": "https://localhost:8080/"
        },
        "id": "nJ6p0eD3dNo1",
        "outputId": "1243b0f2-0fa4-48fa-98a7-948cff8c9450"
      },
      "execution_count": null,
      "outputs": [
        {
          "output_type": "stream",
          "name": "stdout",
          "text": [
            "Ingrese la base: 2\n",
            "Ingrese el exponente: 2\n",
            "2.0  elevado a 2 es: 4.0\n"
          ]
        }
      ]
    },
    {
      "cell_type": "markdown",
      "source": [
        "4. Utilice la siguiente plantilla de code para contar el tiempo:\n",
        "\n",
        "\n",
        "```\n",
        "import time\n",
        "\n",
        "start_time = time.time()\n",
        "# instrucciones sobre las cuales se quiere medir tiempo de ejecución\n",
        "end_time = time.time()\n",
        "\n",
        "timer = end_time - start_time\n",
        "print(timer)\n",
        "```\n",
        "Realice pruebas para calcular fibonacci con iteración o con recursión. Determine desde que número de la serie la diferencia de tiempo se vuelve significativa. Importante: Revisar este hilo.\n",
        "\n"
      ],
      "metadata": {
        "id": "ElWlBUsHTDK2"
      }
    },
    {
      "cell_type": "code",
      "source": [
        "import time\n",
        "\n",
        "# Función de Fibonacci usando recursión\n",
        "def fibo_recursivo(n):\n",
        "    if n <= 1:\n",
        "        return n\n",
        "    else:\n",
        "        return fibo_recursivo(n-1) + fibo_recursivo(n-2)\n",
        "\n",
        "# Función de Fibonacci usando iteración\n",
        "def fibo_iterativo(n):\n",
        "    a, b = 0, 1\n",
        "    for _ in range(n):\n",
        "        a, b = b, a + b\n",
        "    return a\n",
        "\n",
        "# Medir el tiempo de ejecución para la versión recursiva\n",
        "def medir_tiempos():\n",
        "    for n in range(20, 51, 5):  # Probar para números de 20 a 50\n",
        "        inicio_tiempo = time.time()\n",
        "        fibo_recursivo(n)\n",
        "        fin_tiempo = time.time()\n",
        "        tiempo_recursivo = fin_tiempo - inicio_tiempo\n",
        "\n",
        "        inicio_tiempo = time.time()\n",
        "        fibo_iterativo(n)\n",
        "        fin_tiempo = time.time()\n",
        "        tiempo_iterativo = fin_tiempo - inicio_tiempo\n",
        "\n",
        "        print(\"n =\", n, \"\\n Recursivo:\", tiempo_recursivo, \"segundos,\", \"\\n Iterativo:\", tiempo_iterativo, \"segundos\")  # Imprimir el resultado\n",
        "\n",
        "def diferencia_significativa(tiempo_recursivo,tiempo_iterativo, n):\n",
        "  if tiempo_recursivo > tiempo_iterativo:\n",
        "            print(\"   Diferencia significativa en n =\", n, \"\\n\")  # Marca el n que está evaluando\n",
        "\n",
        "\n",
        "if __name__ == \"__main__\":\n",
        "    medir_tiempos()"
      ],
      "metadata": {
        "id": "XCND-eKb9dQu"
      },
      "execution_count": null,
      "outputs": []
    }
  ]
}